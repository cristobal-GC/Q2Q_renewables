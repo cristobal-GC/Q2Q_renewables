{
 "cells": [
  {
   "cell_type": "markdown",
   "id": "fc7dacc9",
   "metadata": {},
   "source": [
    "# Tutorial: evaluating the different normalisation schemes"
   ]
  }
 ],
 "metadata": {
  "language_info": {
   "name": "python"
  }
 },
 "nbformat": 4,
 "nbformat_minor": 5
}
