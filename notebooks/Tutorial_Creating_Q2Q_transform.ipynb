{
 "cells": [
  {
   "cell_type": "markdown",
   "metadata": {},
   "source": [
    "# Tutorial: creating a Q2Q transform from zero"
   ]
  },
  {
   "cell_type": "markdown",
   "metadata": {},
   "source": [
    "A Q2Q transform is a functional relationship between what you have and what you would like to have. It applies to random variables, because the relationship is between the quantiles of the input and the target random variables.\n",
    "\n",
    "In this context, this tutorial is to generate Q2Q functions between modelled (input) and historical (target) renewable generation time series, for solar and wind power. Unless stated otherwise, hourly time series for one year will be considered.\n",
    "\n",
    "This Q2Q encapsulate the modelling errors in a statistical sense, and can be used to improve the modelling of renewable generation in tasks related to energy system optimisation. Further details can be found at https://arxiv.org/abs/2412.06571."
   ]
  },
  {
   "cell_type": "markdown",
   "metadata": {},
   "source": [
    "## Gather your data"
   ]
  },
  {
   "cell_type": "markdown",
   "metadata": {},
   "source": [
    "To implement a Q2Q transform, you basically need two time series:\n",
    "\n",
    "- a time series with historical data, $g_{H,t}$, for a specific year of interest.\n",
    "\n",
    "- a time series with modelled data, $g_{M,t}$, for the same year.\n",
    "\n",
    "$t$ refers to time index."
   ]
  },
  {
   "cell_type": "markdown",
   "metadata": {},
   "source": [
    "### Historical data"
   ]
  },
  {
   "cell_type": "markdown",
   "metadata": {},
   "source": [
    "Obtaining historical data on renewable generation can be difficult, if not impossible.\n",
    "\n",
    "Generation time series for Spain can be retrieved at https://api.esios.ree.es/."
   ]
  },
  {
   "cell_type": "markdown",
   "metadata": {},
   "source": [
    "> At the end of this section, the dataframe `df_target` with the input time series must be defined. Indices must be timestamps in UTC, and the column name must be `values`."
   ]
  },
  {
   "cell_type": "code",
   "execution_count": null,
   "metadata": {},
   "outputs": [],
   "source": []
  },
  {
   "cell_type": "markdown",
   "metadata": {},
   "source": [
    "### Modelled data"
   ]
  },
  {
   "cell_type": "markdown",
   "metadata": {},
   "source": [
    "Wind and solar time series at national level can be modelled with [PyPSA-Eur](https://github.com/PyPSA/pypsa-eur). Here we will use the Spanish extension of this model, [PyPSA-Spain](https://github.com/cristobal-GC/pypsa-spain).\n",
    "\n",
    "For modelling accuracy, it is important to use an installed capacity layout for the considered technology that is as close as possible to the existing one in the specified year. In **PyPSA-Spain** you can use the functionality `update_elec_capacities` to impose the installed capacity for a specific technology at NUTS 2 level. The data of the installed capacity in Spain at NUTS 2 level can be retrieved at https://www.ree.es/es/apidatos.\n",
    "\n",
    "\n"
   ]
  },
  {
   "cell_type": "markdown",
   "metadata": {},
   "source": [
    "It is also important to retain all relevant details and hypotheses of the implemented scenario, as different choices may lead to different generation time series. For example:\n",
    "\n",
    "- Source of meteorological data\n",
    "\n",
    "- Wind turbine model / PV panel configuration\n",
    "\n",
    "- Correction factors\n",
    "\n",
    "- ...\n",
    "\n",
    "\n",
    "\n"
   ]
  },
  {
   "cell_type": "markdown",
   "metadata": {},
   "source": [
    "> At the end of this section, the dataframe `df_input` with the input time series must be defined. Indices must be timestamps in UTC, and the column name must be `values`."
   ]
  },
  {
   "cell_type": "code",
   "execution_count": 1,
   "metadata": {},
   "outputs": [],
   "source": [
    "########## Parameters\n",
    "\n",
    "carrier = 'onwind'"
   ]
  },
  {
   "cell_type": "code",
   "execution_count": 2,
   "metadata": {},
   "outputs": [
    {
     "name": "stderr",
     "output_type": "stream",
     "text": [
      "INFO:pypsa.io:Imported network base_s_15___2013.nc has buses, carriers, generators, global_constraints, lines, links, loads, storage_units, stores\n"
     ]
    }
   ],
   "source": [
    "import pypsa\n",
    "\n",
    "n_file = '../examples/base_s_15___2013.nc'\n",
    "\n",
    "n = pypsa.Network(n_file)"
   ]
  },
  {
   "cell_type": "code",
   "execution_count": 5,
   "metadata": {},
   "outputs": [],
   "source": [
    "df_input = n.generators_t['p'].filter(like=carrier).sum(axis=1).to_frame(name='values')"
   ]
  }
 ],
 "metadata": {
  "kernelspec": {
   "display_name": "Q2Q_renewables",
   "language": "python",
   "name": "python3"
  },
  "language_info": {
   "codemirror_mode": {
    "name": "ipython",
    "version": 3
   },
   "file_extension": ".py",
   "mimetype": "text/x-python",
   "name": "python",
   "nbconvert_exporter": "python",
   "pygments_lexer": "ipython3",
   "version": "3.12.9"
  }
 },
 "nbformat": 4,
 "nbformat_minor": 2
}
