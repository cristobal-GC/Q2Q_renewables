{
 "cells": [
  {
   "cell_type": "markdown",
   "metadata": {},
   "source": [
    "# Tutorial: creating a Q2Q transform from zero"
   ]
  },
  {
   "cell_type": "markdown",
   "metadata": {},
   "source": [
    "A Q2Q transform is a functional relationship between what you have and what you would like to have. It applies to random variables, because the relationship is between the quantiles of the input and the target random variables.\n",
    "\n",
    "In this context, this tutorial is to generate Q2Q functions between modelled (input) and historical (target) renewable generation time series, for solar and wind power. Unless stated otherwise, hourly time series for one year will be considered.\n",
    "\n",
    "This Q2Q encapsulate the modelling errors in a statistical sense, and can be used to improve the modelling of renewable generation in tasks related to energy system optimisation. Further details can be found at https://arxiv.org/abs/2412.06571."
   ]
  },
  {
   "cell_type": "markdown",
   "metadata": {},
   "source": [
    "## Gather your data"
   ]
  },
  {
   "cell_type": "markdown",
   "metadata": {},
   "source": [
    "To implement a Q2Q transform, you basically need two time series:\n",
    "\n",
    "- a time series with modelled data, $g_{m,t}$\n",
    "\n",
    "- a time series with historical data, $g_{H,t}$\n",
    "\n",
    "$t$ refers to time index."
   ]
  },
  {
   "cell_type": "markdown",
   "metadata": {},
   "source": [
    "### Historical data"
   ]
  },
  {
   "cell_type": "markdown",
   "metadata": {},
   "source": [
    "Generation time series for Spain can be retrieved at:"
   ]
  },
  {
   "cell_type": "markdown",
   "metadata": {},
   "source": [
    "### Modelled data"
   ]
  },
  {
   "cell_type": "markdown",
   "metadata": {},
   "source": [
    "Wind and solar time series at national level can be obtained"
   ]
  },
  {
   "cell_type": "code",
   "execution_count": null,
   "metadata": {},
   "outputs": [],
   "source": []
  }
 ],
 "metadata": {
  "kernelspec": {
   "display_name": "Q2Q_renewables",
   "language": "python",
   "name": "python3"
  },
  "language_info": {
   "codemirror_mode": {
    "name": "ipython",
    "version": 3
   },
   "file_extension": ".py",
   "mimetype": "text/x-python",
   "name": "python",
   "nbconvert_exporter": "python",
   "pygments_lexer": "ipython3",
   "version": "3.13.2"
  }
 },
 "nbformat": 4,
 "nbformat_minor": 2
}
